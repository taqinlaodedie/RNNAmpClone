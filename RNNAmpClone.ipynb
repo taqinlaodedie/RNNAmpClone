{
  "cells": [
    {
      "cell_type": "code",
      "execution_count": null,
      "metadata": {
        "id": "ACbDwZBszY0Q"
      },
      "outputs": [],
      "source": [
        "# !pip install keras\n",
        "from scipy.io import wavfile\n",
        "import numpy as np\n",
        "import matplotlib.pyplot as plt\n",
        "import sys\n",
        "import math\n",
        "import tensorflow as tf\n",
        "from tensorflow.keras import Sequential\n",
        "from tensorflow.keras.layers import LSTM, Dense, GRU\n",
        "from tensorflow.keras.optimizers import Adam\n",
        "from tensorflow.keras.backend import clear_session\n",
        "from tensorflow.keras.activations import tanh, elu, relu\n",
        "from tensorflow.keras.models import load_model\n",
        "import tensorflow.keras.backend as K\n",
        "from tensorflow.keras.callbacks import LearningRateScheduler\n",
        "from tensorflow.keras.utils import Sequence\n",
        "from sklearn.metrics import mean_squared_error"
      ]
    },
    {
      "cell_type": "code",
      "execution_count": null,
      "metadata": {
        "id": "2ZBeqUiA5M5Y"
      },
      "outputs": [],
      "source": [
        "# Training parameters\n",
        "DI_path = \"DI.wav\"\n",
        "target_path = \"target.wav\"\n",
        "need_compensate_delay = True\n",
        "train_val_ratio = 0.8\n",
        "dataset_frame_size = 221\n",
        "hidden_size = 32\n",
        "epochs = 10\n",
        "batch_size = 4410\n",
        "lr = 0.001\n",
        "name = 'test'"
      ]
    },
    {
      "cell_type": "code",
      "execution_count": null,
      "metadata": {
        "id": "L25CbEHbz-Wi"
      },
      "outputs": [],
      "source": [
        "# wavfile utils\n",
        "def read_wav_file(path, normalize=True):\n",
        "  rate, sig = wavfile.read(path)\n",
        "  print(\"Read {} with {} samples, rate is {}Hz\".format(path, len(sig), rate))\n",
        "  sig = np.float32(sig)\n",
        "  if normalize == True:\n",
        "    return rate, (sig - np.mean(sig)) * 2 / (sig.max() - sig.min()) # Normalized\n",
        "  return rate, sig\n",
        "\n",
        "def write_wav_file(path, sig, rate, normalized=True, bitwidth=16):\n",
        "  if normalized == True:\n",
        "    _range = float(np.power(2, bitwidth-1))\n",
        "    for i in range(len(sig)):\n",
        "      sig[i] *= _range\n",
        "    sig.astype(np.int16)\n",
        "  plt.figure(1)\n",
        "  plt.plot(sig)\n",
        "  plt.show()\n",
        "  wavfile.write(path, rate, sig)"
      ]
    },
    {
      "cell_type": "code",
      "execution_count": null,
      "metadata": {
        "id": "6I8SP8x_ZitH"
      },
      "outputs": [],
      "source": [
        "class WindowArray(Sequence):\n",
        "  def __init__(self, x, y, window_len, batch_size=32):\n",
        "    self.x = x\n",
        "    self.y = y[window_len-1:]\n",
        "    self.window_len = window_len\n",
        "    self.batch_size = batch_size\n",
        "\n",
        "  def __len__(self):\n",
        "    return (len(self.x) - self.window_len +1) // self.batch_size\n",
        "\n",
        "  def __getitem__(self, index):\n",
        "    x_out = np.stack([self.x[idx: idx+self.window_len] for idx in range(index*self.batch_size, (index+1)*self.batch_size)])\n",
        "    y_out = self.y[index*self.batch_size:(index+1)*self.batch_size]\n",
        "    return x_out, y_out"
      ]
    },
    {
      "cell_type": "code",
      "execution_count": null,
      "metadata": {},
      "outputs": [],
      "source": [
        "def IIR_LP_filter(cutoff_freq, trans_band=500, sample_rate=44100):\n",
        "    fc = float(cutoff_freq) / float(sample_rate)  # Cutoff frequency as a fraction of the sampling rate (in (0, 0.5)).\n",
        "    b = float(trans_band) / float(sample_rate)   # Transition band, as a fraction of the sampling rate (in (0, 0.5)).\n",
        "    N = int(np.ceil((4 / b)))\n",
        "    if not N % 2: N += 1  # Make sure that N is odd.\n",
        "    n = np.arange(N)\n",
        "    # Compute sinc filter.\n",
        "    h = np.sinc(2 * fc * (n - (N - 1) / 2))\n",
        "    # Compute Blackman window.\n",
        "    w = 0.42 - 0.5 * np.cos(2 * np.pi * n / (N - 1)) + \\\n",
        "        0.08 * np.cos(4 * np.pi * n / (N - 1))\n",
        "    # Multiply sinc filter by window.\n",
        "    h = h * w\n",
        "    # Normalize to get unity gain.\n",
        "    h = h / np.sum(h)\n",
        "    return h\n",
        "\n",
        "def delay_compensation(DI_dataset, target_dataset):\n",
        "    h = IIR_LP_filter(100)\n",
        "    print(\"Before delay compensation\")\n",
        "    plt.figure(1)\n",
        "    plt.plot(DI_dataset[:50000], label=\"DI\")\n",
        "    plt.plot(target_dataset[:50000], label=\"target\")\n",
        "    plt.legend()\n",
        "    plt.show()\n",
        "    correlated = np.correlate(target_dataset[:10000], DI_dataset[:10000], mode='full')\n",
        "    index = correlated.argmax()\n",
        "    delay = index - 10000\n",
        "    # delay = target_max_index - DI_max_index\n",
        "    print(\"DI max index: {}, delay: {} samples\".format(index, delay))\n",
        "    target_dataset = target_dataset[delay:]\n",
        "    DI_dataset = DI_dataset[:len(DI_dataset)-delay]\n",
        "    print(\"After delay compensation\")\n",
        "    plt.figure(2)\n",
        "    plt.plot(DI_dataset[:50000], label=\"DI\")\n",
        "    plt.plot(target_dataset[:50000], label=\"target\")\n",
        "    plt.legend()\n",
        "    plt.show()"
      ]
    },
    {
      "cell_type": "code",
      "execution_count": null,
      "metadata": {
        "colab": {
          "base_uri": "https://localhost:8080/",
          "height": 565
        },
        "id": "LQnkFaje5Jvo",
        "outputId": "2e5ebb75-a666-475b-a1df-dcfc62b85ec9"
      },
      "outputs": [],
      "source": [
        "# Load datasets\n",
        "tf.random.set_seed(7)\n",
        "_, DI_dataset = read_wav_file(DI_path)\n",
        "_, target_dataset = read_wav_file(target_path)\n",
        "# Verify dataset length\n",
        "if len(DI_dataset) != len(target_dataset):\n",
        "  print(\"DI length and target length is not equal\")\n",
        "  sys.exit()\n",
        "if need_compensate_delay == True:\n",
        "  delay_compensation(DI_dataset, target_dataset)\n",
        "trainset_size = int(len(DI_dataset)*train_val_ratio)\n",
        "input_trainset = DI_dataset[:trainset_size]\n",
        "input_valset = DI_dataset[trainset_size:]\n",
        "target_trainset = target_dataset[:trainset_size]\n",
        "target_valset = target_dataset[trainset_size:]\n",
        "# Plot original datasets\n",
        "fig, ax = plt.subplots(4)\n",
        "fig.suptitle(\"Datasets\")\n",
        "ax[0].plot(input_trainset)\n",
        "ax[1].plot(target_trainset)\n",
        "ax[2].plot(input_valset)\n",
        "ax[3].plot(target_valset)\n",
        "plt.show()\n",
        "# Split datasets to frames\n",
        "input_trainset = input_trainset.reshape(-1, 1)\n",
        "input_valset = input_valset.reshape(-1, 1)\n",
        "target_trainset = target_trainset.reshape(-1, 1)\n",
        "target_valset = target_valset.reshape(-1, 1)\n",
        "train_arr = WindowArray(input_trainset, target_trainset, dataset_frame_size, batch_size=batch_size)\n",
        "val_arr = WindowArray(input_valset, target_valset, dataset_frame_size, batch_size=batch_size)\n",
        "output_arr = WindowArray(DI_dataset.reshape(-1, 1), target_dataset.reshape(-1, 1), dataset_frame_size, batch_size=batch_size)"
      ]
    },
    {
      "cell_type": "code",
      "execution_count": null,
      "metadata": {
        "colab": {
          "base_uri": "https://localhost:8080/"
        },
        "id": "_hLqA9huMH9m",
        "outputId": "65d76ef3-9d8c-4513-8408-52ec42a70735"
      },
      "outputs": [],
      "source": [
        "# Create model\n",
        "model = Sequential()\n",
        "model.add(GRU(hidden_size, input_shape=(dataset_frame_size, 1)))\n",
        "model.add(Dense(hidden_size, activation=tanh))\n",
        "model.add(Dense(1, activation=None))\n",
        "model.compile(optimizer=Adam(learning_rate=lr), loss='mse')\n",
        "model.summary()"
      ]
    },
    {
      "cell_type": "code",
      "execution_count": null,
      "metadata": {
        "colab": {
          "base_uri": "https://localhost:8080/",
          "height": 376
        },
        "id": "AQP2nQUgUPEQ",
        "outputId": "0f8d4cad-2916-4363-9f04-08030cf11125"
      },
      "outputs": [],
      "source": [
        "# Train model\n",
        "history = model.fit(train_arr, validation_data=val_arr, epochs=epochs, shuffle=True)"
      ]
    },
    {
      "cell_type": "code",
      "execution_count": null,
      "metadata": {
        "id": "EZxDxNisgGLB"
      },
      "outputs": [],
      "source": [
        "# Save model\n",
        "model.save('models/'+name+'/'+name+'.h5')"
      ]
    },
    {
      "cell_type": "code",
      "execution_count": null,
      "metadata": {
        "id": "0nPurixvgg1a"
      },
      "outputs": [],
      "source": [
        "# Predict\n",
        "prediction = model.predict(output_arr)"
      ]
    },
    {
      "cell_type": "code",
      "execution_count": null,
      "metadata": {
        "id": "1LtBqDZ73r6w"
      },
      "outputs": [],
      "source": [
        "plt.figure(1)\n",
        "plt.plot(target_dataset, label=\"target\")\n",
        "plt.plot(prediction.flatten(), label=\"output\")\n",
        "plt.legend()\n",
        "plt.show()"
      ]
    },
    {
      "cell_type": "code",
      "execution_count": null,
      "metadata": {
        "id": "JmbualYE4ETu"
      },
      "outputs": [],
      "source": [
        "write_wav_file(\"output.wav\", prediction.flatten(), 44100, normalized=False)"
      ]
    }
  ],
  "metadata": {
    "accelerator": "GPU",
    "colab": {
      "gpuType": "T4",
      "provenance": []
    },
    "kernelspec": {
      "display_name": "Python 3",
      "name": "python3"
    },
    "language_info": {
      "codemirror_mode": {
        "name": "ipython",
        "version": 3
      },
      "file_extension": ".py",
      "mimetype": "text/x-python",
      "name": "python",
      "nbconvert_exporter": "python",
      "pygments_lexer": "ipython3",
      "version": "3.8.0"
    }
  },
  "nbformat": 4,
  "nbformat_minor": 0
}
