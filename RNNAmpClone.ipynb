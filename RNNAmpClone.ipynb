{
  "cells": [
    {
      "cell_type": "code",
      "execution_count": null,
      "metadata": {
        "id": "ACbDwZBszY0Q"
      },
      "outputs": [],
      "source": [
        "# !pip install keras\n",
        "from scipy.io import wavfile\n",
        "import numpy as np\n",
        "import matplotlib.pyplot as plt\n",
        "import sys\n",
        "import math\n",
        "import tensorflow as tf\n",
        "from tensorflow.keras import Sequential\n",
        "from tensorflow.keras.layers import LSTM, Dense, GRU\n",
        "from tensorflow.keras.optimizers import Adam\n",
        "from tensorflow.keras.backend import clear_session\n",
        "from tensorflow.keras.activations import tanh, elu, relu\n",
        "from tensorflow.keras.models import load_model\n",
        "import tensorflow.keras.backend as K\n",
        "from tensorflow.keras.utils import Sequence\n",
        "from sklearn.metrics import mean_squared_error"
      ]
    },
    {
      "cell_type": "code",
      "execution_count": null,
      "metadata": {
        "id": "2ZBeqUiA5M5Y"
      },
      "outputs": [],
      "source": [
        "# Training parameters\n",
        "DI_path = \"DI.wav\"\n",
        "target_path = \"target.wav\"\n",
        "train_val_ratio = 0.8\n",
        "dataset_frame_size = 221\n",
        "hidden_size = 64\n",
        "epochs = 10\n",
        "batch_size = 4410\n",
        "lr = 0.001\n",
        "name = 'test'"
      ]
    },
    {
      "cell_type": "code",
      "execution_count": null,
      "metadata": {
        "id": "L25CbEHbz-Wi"
      },
      "outputs": [],
      "source": [
        "# wavfile utils\n",
        "def read_wav_file(path, normalize=True):\n",
        "  rate, sig = wavfile.read(path)\n",
        "  print(\"Read {} with {} samples, rate is {}Hz\".format(path, len(sig), rate))\n",
        "  sig = np.float32(sig)\n",
        "  if normalize == True:\n",
        "    return rate, (sig - np.mean(sig)) * 2 / (sig.max() - sig.min()) # Normalized\n",
        "  return rate, sig\n",
        "\n",
        "def write_wav_file(path, sig, rate, normalized=True, bitwidth=16):\n",
        "  if normalized == True:\n",
        "    _range = float(np.power(2, bitwidth-1))\n",
        "    for i in range(len(sig)):\n",
        "      sig[i] *= _range\n",
        "      sig.astype(np.int16)\n",
        "  plt.figure(1)\n",
        "  plt.plot(sig)\n",
        "  plt.show()\n",
        "  wavfile.write(path, rate, sig)"
      ]
    },
    {
      "cell_type": "code",
      "execution_count": null,
      "metadata": {
        "id": "6I8SP8x_ZitH"
      },
      "outputs": [],
      "source": [
        "class WindowArray(Sequence):\n",
        "  def __init__(self, x, y, window_len, batch_size=32):\n",
        "    self.x = x\n",
        "    self.y = y[window_len-1:]\n",
        "    self.window_len = window_len\n",
        "    self.batch_size = batch_size\n",
        "\n",
        "  def __len__(self):\n",
        "    return (len(self.x) - self.window_len +1) // self.batch_size\n",
        "\n",
        "  def __getitem__(self, index):\n",
        "    x_out = np.stack([self.x[idx: idx+self.window_len] for idx in range(index*self.batch_size, (index+1)*self.batch_size)])\n",
        "    y_out = self.y[index*self.batch_size:(index+1)*self.batch_size]\n",
        "    return x_out, y_out"
      ]
    },
    {
      "cell_type": "code",
      "execution_count": null,
      "metadata": {
        "colab": {
          "base_uri": "https://localhost:8080/",
          "height": 531
        },
        "id": "LQnkFaje5Jvo",
        "outputId": "1786fe1e-86f7-4c72-fe05-8b8dcd5e3705"
      },
      "outputs": [],
      "source": [
        "# Load datasets\n",
        "tf.random.set_seed(7)\n",
        "_, DI_dataset = read_wav_file(DI_path)\n",
        "_, target_dataset = read_wav_file(target_path)\n",
        "# Verify dataset length\n",
        "if len(DI_dataset) != len(target_dataset):\n",
        "  print(\"DI length and target length is not equal\")\n",
        "  sys.exit()\n",
        "trainset_size = int(len(DI_dataset)*train_val_ratio)\n",
        "input_trainset = DI_dataset[:trainset_size]\n",
        "input_valset = DI_dataset[trainset_size:]\n",
        "target_trainset = target_dataset[:trainset_size]\n",
        "target_valset = target_dataset[trainset_size:]\n",
        "# Plot original datasets\n",
        "fig, ax = plt.subplots(4)\n",
        "fig.suptitle(\"Datasets\")\n",
        "ax[0].plot(input_trainset)\n",
        "ax[1].plot(target_trainset)\n",
        "ax[2].plot(input_valset)\n",
        "ax[3].plot(target_valset)\n",
        "plt.show()\n",
        "# Split datasets to frames\n",
        "input_trainset = input_trainset.reshape(-1, 1)\n",
        "input_valset = input_valset.reshape(-1, 1)\n",
        "target_trainset = target_trainset.reshape(-1, 1)\n",
        "target_valset = target_valset.reshape(-1, 1)\n",
        "train_arr = WindowArray(input_trainset, target_trainset, dataset_frame_size, batch_size=batch_size)\n",
        "val_arr = WindowArray(input_valset, target_valset, dataset_frame_size, batch_size=batch_size)\n",
        "output_arr = WindowArray(DI_dataset.reshape(-1, 1), target_dataset.reshape(-1, 1), dataset_frame_size, batch_size=batch_size)"
      ]
    },
    {
      "cell_type": "code",
      "execution_count": null,
      "metadata": {
        "colab": {
          "base_uri": "https://localhost:8080/"
        },
        "id": "_hLqA9huMH9m",
        "outputId": "54aade1a-3179-4316-8a92-91f5bd717f26"
      },
      "outputs": [],
      "source": [
        "# Create model\n",
        "model = Sequential()\n",
        "model.add(GRU(hidden_size, input_shape=(dataset_frame_size, 1)))\n",
        "model.add(Dense(1, activation=None))\n",
        "model.compile(optimizer=Adam(learning_rate=lr), loss='mse')\n",
        "model.summary()"
      ]
    },
    {
      "cell_type": "code",
      "execution_count": null,
      "metadata": {
        "colab": {
          "base_uri": "https://localhost:8080/"
        },
        "id": "AQP2nQUgUPEQ",
        "outputId": "1fd83a2f-db97-44e3-bc87-bc81ec5fa7be"
      },
      "outputs": [],
      "source": [
        "# Train model\n",
        "history = model.fit(train_arr, validation_data=val_arr, epochs=epochs, shuffle=True)"
      ]
    },
    {
      "cell_type": "code",
      "execution_count": null,
      "metadata": {
        "id": "EZxDxNisgGLB"
      },
      "outputs": [],
      "source": [
        "# Save model\n",
        "model.save('models/'+name+'/'+name+'.h5')"
      ]
    },
    {
      "cell_type": "code",
      "execution_count": null,
      "metadata": {
        "id": "0nPurixvgg1a"
      },
      "outputs": [],
      "source": [
        "# Predict\n",
        "prediction = model.predict(output_arr)"
      ]
    },
    {
      "cell_type": "code",
      "execution_count": null,
      "metadata": {
        "id": "1LtBqDZ73r6w"
      },
      "outputs": [],
      "source": [
        "plt.figure(1)\n",
        "plt.plot(target_dataset, label=\"target\")\n",
        "plt.plot(prediction.flatten(), label=\"output\")\n",
        "plt.legend()\n",
        "plt.show()"
      ]
    },
    {
      "cell_type": "code",
      "execution_count": null,
      "metadata": {
        "id": "JmbualYE4ETu"
      },
      "outputs": [],
      "source": [
        "write_wav_file(\"output.wav\", prediction.flatten(), 44100, normalized=False)"
      ]
    }
  ],
  "metadata": {
    "accelerator": "GPU",
    "colab": {
      "gpuType": "T4",
      "provenance": []
    },
    "kernelspec": {
      "display_name": "Python 3",
      "name": "python3"
    },
    "language_info": {
      "name": "python"
    }
  },
  "nbformat": 4,
  "nbformat_minor": 0
}
