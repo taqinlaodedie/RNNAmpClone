{
 "cells": [
  {
   "cell_type": "code",
   "execution_count": null,
   "metadata": {},
   "outputs": [],
   "source": [
    "import tensorflow as tf\n",
    "from tensorflow.keras import Sequential\n",
    "from tensorflow.keras.layers import LSTM, Conv1D, Dense\n",
    "from tensorflow.keras.optimizers import Adam\n",
    "from tensorflow.keras.backend import clear_session\n",
    "from tensorflow.keras.activations import tanh, elu, relu\n",
    "from tensorflow.keras.models import load_model\n",
    "import tensorflow.keras.backend as K\n",
    "from tensorflow.keras.utils import Sequence\n",
    "\n",
    "import sys\n",
    "from scipy import signal\n",
    "from scipy.io import wavfile\n",
    "import numpy as np\n",
    "import matplotlib.pyplot as plt\n",
    "import math\n",
    "import h5py"
   ]
  },
  {
   "cell_type": "code",
   "execution_count": null,
   "metadata": {},
   "outputs": [],
   "source": [
    "# Training parameters\n",
    "DI_path = \"ht1-input.wav\"\n",
    "target_path = \"ht1-target.wav\"\n",
    "# DI_path = \"DI.wav\"\n",
    "# target_path = \"target.wav\"\n",
    "train_val_ratio = 0.9\n",
    "features = 1\n",
    "hidden_size = 128\n",
    "epochs = 10\n",
    "sequence_length = 128\n",
    "batch_size = 4096\n",
    "conv_strides = [4, 3]\n",
    "conv_chan = 32\n",
    "lr = 1e-3\n",
    "name = 'ht1'"
   ]
  },
  {
   "cell_type": "code",
   "execution_count": null,
   "metadata": {},
   "outputs": [],
   "source": [
    "# wavfile utils\n",
    "def read_wav_file(path, normalize=True, bitwidth=16):\n",
    "    rate, sig = wavfile.read(path)\n",
    "    print(\"Read {} with {} samples, rate is {}Hz\".format(path, len(sig), rate))\n",
    "    sig = np.float32(sig)\n",
    "    if normalize == True:\n",
    "        return rate, 2 * (sig - sig.mean()) / (sig.max() - sig.min())  # Normalized\n",
    "    return rate, sig\n",
    "\n",
    "def write_wav_file(path, sig, rate, normalized=True, bitwidth=16):\n",
    "    if normalized == True:\n",
    "        _range = float(np.power(2, bitwidth-2))\n",
    "        for i in range(len(sig)):\n",
    "            sig[i] *= _range\n",
    "        if bitwidth == 16:\n",
    "            sig = sig.astype(np.int16)\n",
    "        elif bitwidth == 24 or bitwidth == 32:\n",
    "            sig = sig.astype(np.int32)\n",
    "        else:\n",
    "            print(\"Unknown bitwidth\")\n",
    "    wavfile.write(path, rate, sig)\n",
    "\n",
    "# Load data\n",
    "_, DI_dataset = read_wav_file(DI_path)\n",
    "_, target_dataset = read_wav_file(target_path)\n",
    "# Verify dataset length\n",
    "if len(DI_dataset) != len(target_dataset):\n",
    "    print(\"DI length and target length is not equal\")\n",
    "    sys.exit()\n",
    "DI_dataset = DI_dataset\n",
    "target_dataset = target_dataset\n",
    "trainset_size = int(len(DI_dataset)*train_val_ratio)\n",
    "input_trainset = DI_dataset[:trainset_size]\n",
    "input_valset = DI_dataset[trainset_size:]\n",
    "target_trainset = target_dataset[:trainset_size]\n",
    "target_valset = target_dataset[trainset_size:]\n",
    "# Plot original datasets\n",
    "fig, ax = plt.subplots(4)\n",
    "fig.suptitle(\"Datasets\")\n",
    "ax[0].plot(input_trainset)\n",
    "ax[1].plot(target_trainset)\n",
    "ax[2].plot(input_valset)\n",
    "ax[3].plot(target_valset)\n",
    "plt.show()"
   ]
  },
  {
   "cell_type": "code",
   "execution_count": null,
   "metadata": {},
   "outputs": [],
   "source": [
    "# Get data batchs from dataset\n",
    "class SequenceBatch(Sequence):\n",
    "    def __init__(self, x, y, sequence_length=sequence_length, batch_size=batch_size):\n",
    "        self.x = x\n",
    "        self.y = y[sequence_length-1:] \n",
    "        self.sequence_length = sequence_length\n",
    "        self.batch_size = batch_size\n",
    "\n",
    "    def __len__(self):\n",
    "        return (len(self.x) - self.sequence_length + 1) // self.batch_size\n",
    "    \n",
    "    def __getitem__(self, index):\n",
    "        x_out = np.stack([self.x[i : i+self.sequence_length] for i in range(index*self.batch_size, index*self.batch_size+self.batch_size)])\n",
    "        y_out = self.y[index*self.batch_size : index*self.batch_size+self.batch_size]\n",
    "        return x_out, y_out\n",
    "    \n",
    "# Pre-process datasets\n",
    "input_trainset = input_trainset.reshape(-1, 1)\n",
    "input_valset = input_valset.reshape(-1, 1)\n",
    "target_trainset = target_trainset.reshape(-1, 1)\n",
    "target_valset = target_valset.reshape(-1, 1)\n",
    "\n",
    "train_dataset = SequenceBatch(input_trainset, target_trainset)\n",
    "val_dataset = SequenceBatch(input_valset, target_valset)"
   ]
  },
  {
   "cell_type": "code",
   "execution_count": null,
   "metadata": {},
   "outputs": [],
   "source": [
    "# Create model\n",
    "clear_session()\n",
    "model = Sequential()\n",
    "model.add(Conv1D(conv_chan, 12, strides=conv_strides[0], activation=None, padding='same', input_shape=(sequence_length, 1)))\n",
    "model.add(Conv1D(conv_chan, 12, strides=conv_strides[1], activation=None, padding='same'))\n",
    "model.add(LSTM(hidden_size))\n",
    "model.add(Dense(1, activation=None))\n",
    "model.compile(optimizer=Adam(learning_rate=lr), loss='mse')\n",
    "model.summary()"
   ]
  },
  {
   "cell_type": "code",
   "execution_count": null,
   "metadata": {},
   "outputs": [],
   "source": [
    "# Train model\n",
    "history = model.fit(train_dataset, validation_data=val_dataset, epochs=epochs, shuffle=True)    \n",
    "model.save(name + '.h5')"
   ]
  },
  {
   "cell_type": "code",
   "execution_count": null,
   "metadata": {},
   "outputs": [],
   "source": [
    "# Prediction\n",
    "pred = model.predict(val_dataset)\n",
    "target = target_valset.flatten()\n",
    "plt.figure(2)\n",
    "plt.plot(target[:441000], label=\"target\")\n",
    "plt.plot(pred[:441000], label=\"predict\")\n",
    "plt.legend()\n",
    "plt.show()\n",
    "write_wav_file(\"output.wav\", pred, 44100)"
   ]
  }
 ],
 "metadata": {
  "kernelspec": {
   "display_name": "Python 3",
   "language": "python",
   "name": "python3"
  },
  "language_info": {
   "codemirror_mode": {
    "name": "ipython",
    "version": 3
   },
   "file_extension": ".py",
   "mimetype": "text/x-python",
   "name": "python",
   "nbconvert_exporter": "python",
   "pygments_lexer": "ipython3",
   "version": "3.8.0"
  }
 },
 "nbformat": 4,
 "nbformat_minor": 2
}
